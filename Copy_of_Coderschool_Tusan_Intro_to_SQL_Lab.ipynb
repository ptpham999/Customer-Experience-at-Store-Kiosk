{
  "nbformat": 4,
  "nbformat_minor": 5,
  "metadata": {
    "colab": {
      "name": "Copy of Coderschool_Tusan_Intro_to_SQL_Lab.ipynb",
      "provenance": [],
      "collapsed_sections": [],
      "include_colab_link": true
    },
    "language_info": {
      "name": "python"
    },
    "kernelspec": {
      "name": "python3",
      "display_name": "Python 3"
    },
    "widgets": {
      "application/vnd.jupyter.widget-state+json": {
        "0a6e1e632e8648b98b03889f146e0f8b": {
          "model_module": "@jupyter-widgets/controls",
          "model_name": "TextModel",
          "state": {
            "_view_name": "TextView",
            "style": "IPY_MODEL_15f575cc2f7a491e933b8725db184172",
            "_dom_classes": [],
            "description": "Your email",
            "_model_name": "TextModel",
            "placeholder": "Email..",
            "_view_module": "@jupyter-widgets/controls",
            "_model_module_version": "1.5.0",
            "value": "ptpham@usc.edu",
            "_view_count": null,
            "disabled": false,
            "_view_module_version": "1.5.0",
            "continuous_update": true,
            "description_tooltip": null,
            "_model_module": "@jupyter-widgets/controls",
            "layout": "IPY_MODEL_527ea59f2379454eb471d2763b150e7c"
          }
        },
        "15f575cc2f7a491e933b8725db184172": {
          "model_module": "@jupyter-widgets/controls",
          "model_name": "DescriptionStyleModel",
          "state": {
            "_view_name": "StyleView",
            "_model_name": "DescriptionStyleModel",
            "description_width": "",
            "_view_module": "@jupyter-widgets/base",
            "_model_module_version": "1.5.0",
            "_view_count": null,
            "_view_module_version": "1.2.0",
            "_model_module": "@jupyter-widgets/controls"
          }
        },
        "527ea59f2379454eb471d2763b150e7c": {
          "model_module": "@jupyter-widgets/base",
          "model_name": "LayoutModel",
          "state": {
            "_view_name": "LayoutView",
            "grid_template_rows": null,
            "right": null,
            "justify_content": null,
            "_view_module": "@jupyter-widgets/base",
            "overflow": null,
            "_model_module_version": "1.2.0",
            "_view_count": null,
            "flex_flow": null,
            "width": null,
            "min_width": null,
            "border": null,
            "align_items": null,
            "bottom": null,
            "_model_module": "@jupyter-widgets/base",
            "top": null,
            "grid_column": null,
            "overflow_y": null,
            "overflow_x": null,
            "grid_auto_flow": null,
            "grid_area": null,
            "grid_template_columns": null,
            "flex": null,
            "_model_name": "LayoutModel",
            "justify_items": null,
            "grid_row": null,
            "max_height": null,
            "align_content": null,
            "visibility": null,
            "align_self": null,
            "height": null,
            "min_height": null,
            "padding": null,
            "grid_auto_rows": null,
            "grid_gap": null,
            "max_width": null,
            "order": null,
            "_view_module_version": "1.2.0",
            "grid_template_areas": null,
            "object_position": null,
            "object_fit": null,
            "grid_auto_columns": null,
            "margin": null,
            "display": null,
            "left": null
          }
        },
        "bc517111d8dd44ec80dee64b450c1be0": {
          "model_module": "@jupyter-widgets/controls",
          "model_name": "ButtonModel",
          "state": {
            "_view_name": "ButtonView",
            "style": "IPY_MODEL_cb10d8ff1de8466284e7ddffd70789bb",
            "_dom_classes": [],
            "description": "Submit",
            "_model_name": "ButtonModel",
            "button_style": "success",
            "_view_module": "@jupyter-widgets/controls",
            "_model_module_version": "1.5.0",
            "tooltip": "Submit",
            "_view_count": null,
            "disabled": false,
            "_view_module_version": "1.5.0",
            "layout": "IPY_MODEL_36864574d88e41d39b076cef7026a35c",
            "_model_module": "@jupyter-widgets/controls",
            "icon": "paper-plane"
          }
        },
        "cb10d8ff1de8466284e7ddffd70789bb": {
          "model_module": "@jupyter-widgets/controls",
          "model_name": "ButtonStyleModel",
          "state": {
            "_view_name": "StyleView",
            "_model_name": "ButtonStyleModel",
            "_view_module": "@jupyter-widgets/base",
            "_model_module_version": "1.5.0",
            "_view_count": null,
            "button_color": null,
            "font_weight": "",
            "_view_module_version": "1.2.0",
            "_model_module": "@jupyter-widgets/controls"
          }
        },
        "36864574d88e41d39b076cef7026a35c": {
          "model_module": "@jupyter-widgets/base",
          "model_name": "LayoutModel",
          "state": {
            "_view_name": "LayoutView",
            "grid_template_rows": null,
            "right": null,
            "justify_content": null,
            "_view_module": "@jupyter-widgets/base",
            "overflow": null,
            "_model_module_version": "1.2.0",
            "_view_count": null,
            "flex_flow": null,
            "width": null,
            "min_width": null,
            "border": null,
            "align_items": null,
            "bottom": null,
            "_model_module": "@jupyter-widgets/base",
            "top": null,
            "grid_column": null,
            "overflow_y": null,
            "overflow_x": null,
            "grid_auto_flow": null,
            "grid_area": null,
            "grid_template_columns": null,
            "flex": null,
            "_model_name": "LayoutModel",
            "justify_items": null,
            "grid_row": null,
            "max_height": null,
            "align_content": null,
            "visibility": null,
            "align_self": null,
            "height": null,
            "min_height": null,
            "padding": null,
            "grid_auto_rows": null,
            "grid_gap": null,
            "max_width": null,
            "order": null,
            "_view_module_version": "1.2.0",
            "grid_template_areas": null,
            "object_position": null,
            "object_fit": null,
            "grid_auto_columns": null,
            "margin": null,
            "display": null,
            "left": null
          }
        },
        "6faab6237aaf4fb184c5bdfd8b35d5f0": {
          "model_module": "@jupyter-widgets/output",
          "model_name": "OutputModel",
          "state": {
            "_view_name": "OutputView",
            "msg_id": "",
            "_dom_classes": [],
            "_model_name": "OutputModel",
            "outputs": [
              {
                "output_type": "stream",
                "metadata": {
                  "tags": []
                },
                "text": "Welcome Phuong Pham!\n",
                "stream": "stdout"
              }
            ],
            "_view_module": "@jupyter-widgets/output",
            "_model_module_version": "1.0.0",
            "_view_count": null,
            "_view_module_version": "1.0.0",
            "layout": "IPY_MODEL_41b69a0321bd4104ab6aac6932b53ea8",
            "_model_module": "@jupyter-widgets/output"
          }
        },
        "41b69a0321bd4104ab6aac6932b53ea8": {
          "model_module": "@jupyter-widgets/base",
          "model_name": "LayoutModel",
          "state": {
            "_view_name": "LayoutView",
            "grid_template_rows": null,
            "right": null,
            "justify_content": null,
            "_view_module": "@jupyter-widgets/base",
            "overflow": null,
            "_model_module_version": "1.2.0",
            "_view_count": null,
            "flex_flow": null,
            "width": null,
            "min_width": null,
            "border": null,
            "align_items": null,
            "bottom": null,
            "_model_module": "@jupyter-widgets/base",
            "top": null,
            "grid_column": null,
            "overflow_y": null,
            "overflow_x": null,
            "grid_auto_flow": null,
            "grid_area": null,
            "grid_template_columns": null,
            "flex": null,
            "_model_name": "LayoutModel",
            "justify_items": null,
            "grid_row": null,
            "max_height": null,
            "align_content": null,
            "visibility": null,
            "align_self": null,
            "height": null,
            "min_height": null,
            "padding": null,
            "grid_auto_rows": null,
            "grid_gap": null,
            "max_width": null,
            "order": null,
            "_view_module_version": "1.2.0",
            "grid_template_areas": null,
            "object_position": null,
            "object_fit": null,
            "grid_auto_columns": null,
            "margin": null,
            "display": null,
            "left": null
          }
        }
      }
    }
  },
  "cells": [
    {
      "cell_type": "markdown",
      "metadata": {
        "id": "view-in-github",
        "colab_type": "text"
      },
      "source": [
        "<a href=\"https://colab.research.google.com/github/ptpham999/Customer-Experience-at-Store-Kiosk/blob/main/Copy_of_Coderschool_Tusan_Intro_to_SQL_Lab.ipynb\" target=\"_parent\"><img src=\"https://colab.research.google.com/assets/colab-badge.svg\" alt=\"Open In Colab\"/></a>"
      ]
    },
    {
      "cell_type": "markdown",
      "metadata": {
        "id": "ijX97Na5YMnb"
      },
      "source": [
        "## Remember to save a copy in drive before doing this exercise!\n",
        "\n",
        "![](https://i.imgur.com/rPnCNKw.png)"
      ],
      "id": "ijX97Na5YMnb"
    },
    {
      "cell_type": "code",
      "metadata": {
        "id": "7c6dc77d",
        "colab": {
          "base_uri": "https://localhost:8080/",
          "height": 98,
          "referenced_widgets": [
            "0a6e1e632e8648b98b03889f146e0f8b",
            "15f575cc2f7a491e933b8725db184172",
            "527ea59f2379454eb471d2763b150e7c",
            "bc517111d8dd44ec80dee64b450c1be0",
            "cb10d8ff1de8466284e7ddffd70789bb",
            "36864574d88e41d39b076cef7026a35c",
            "6faab6237aaf4fb184c5bdfd8b35d5f0",
            "41b69a0321bd4104ab6aac6932b53ea8"
          ]
        },
        "outputId": "3392a607-b6bf-4cff-8611-b55d36ee06bb"
      },
      "source": [
        "#@title Before you start, please login with the same email you have registered for the course {display-mode: \"form\"}\n",
        "\n",
        "# This code will be hidden when the notebook is loaded.\n",
        "import requests\n",
        "import ipywidgets as widgets\n",
        "from IPython.display import display\n",
        "import urllib.request as request\n",
        "import inspect\n",
        "\n",
        "checker_str = request.urlopen('https://raw.githubusercontent.com/coderschool/mle_gist/master/course_management.py')\n",
        "exec(checker_str.read())\n",
        "\n",
        "assignment_id = '60e6cfe8bba893000bf72eda'\n",
        "assignment = Assignment.get_assignment_by_id(db, assignment_id)\n",
        "total_score = sum([q['score'] for q in assignment.questions])\n",
        "\n",
        "submission_data = {\n",
        "    \"assignmentId\": assignment_id,\n",
        "    \"answers\": [{'question': q['_id'], 'answer':'', 'clientCheck':0} for q in assignment.questions],\n",
        "    \"currentScore\": 0\n",
        "}\n",
        "\n",
        "button = widgets.Button( icon='fa-paper-plane', description=\"Submit\", button_style='success', tooltip='Submit')\n",
        "email_field =widgets.Text(\n",
        "    value='',\n",
        "    placeholder='Email..',\n",
        "    description='Your email',\n",
        "    disabled=False\n",
        ")\n",
        "output = widgets.Output()\n",
        "\n",
        "def submit():\n",
        "    button.description = \"Submitting...\"\n",
        "    button.disabled = True\n",
        "\n",
        "    submission = Submission.create(db, submission_data)\n",
        "    if isinstance(submission,Submission) and getattr(submission, '_id', ''):\n",
        "        if (getattr(submission, 'name', '')):\n",
        "            print(f'Welcome {submission.name}!')\n",
        "        else:\n",
        "            print(f'Welcome {submission.email}')\n",
        "    else:\n",
        "        del submission_data['email']\n",
        "\n",
        "    button.description = \"Submit\"\n",
        "    button.disabled = False\n",
        "\n",
        "def on_button_clicked(b):\n",
        "    # Display the message within the output widget.\n",
        "    with output:\n",
        "        if (len(email_field.value) == 0):\n",
        "            print(\"Please enter your email\")\n",
        "            return\n",
        "        submission_data['email'] = email_field.value.strip()\n",
        "        submit()\n",
        "\n",
        "button.on_click(on_button_clicked)\n",
        "\n",
        "display(email_field)\n",
        "display(button, output)"
      ],
      "id": "7c6dc77d",
      "execution_count": 1,
      "outputs": [
        {
          "output_type": "display_data",
          "data": {
            "application/vnd.jupyter.widget-view+json": {
              "model_id": "0a6e1e632e8648b98b03889f146e0f8b",
              "version_minor": 0,
              "version_major": 2
            },
            "text/plain": [
              "Text(value='', description='Your email', placeholder='Email..')"
            ]
          },
          "metadata": {
            "tags": []
          }
        },
        {
          "output_type": "display_data",
          "data": {
            "application/vnd.jupyter.widget-view+json": {
              "model_id": "bc517111d8dd44ec80dee64b450c1be0",
              "version_minor": 0,
              "version_major": 2
            },
            "text/plain": [
              "Button(button_style='success', description='Submit', icon='paper-plane', style=ButtonStyle(), tooltip='Submit'…"
            ]
          },
          "metadata": {
            "tags": []
          }
        },
        {
          "output_type": "display_data",
          "data": {
            "application/vnd.jupyter.widget-view+json": {
              "model_id": "6faab6237aaf4fb184c5bdfd8b35d5f0",
              "version_minor": 0,
              "version_major": 2
            },
            "text/plain": [
              "Output()"
            ]
          },
          "metadata": {
            "tags": []
          }
        }
      ]
    },
    {
      "cell_type": "markdown",
      "metadata": {
        "id": "848d5220"
      },
      "source": [
        "## Database\n",
        "\n",
        "![alt text](https://miro.medium.com/max/1066/1*LcXr-gRpSfe63XjdCVa15A.png)"
      ],
      "id": "848d5220"
    },
    {
      "cell_type": "markdown",
      "metadata": {
        "id": "f659154c"
      },
      "source": [
        "**Run these cell to connect and load the dataset in the given database file (.db)**"
      ],
      "id": "f659154c"
    },
    {
      "cell_type": "code",
      "metadata": {
        "id": "01a271ac"
      },
      "source": [
        "!wget -q -c 'https://raw.githubusercontent.com/dhminh1024/practice_datasets/master/chinook.db'"
      ],
      "id": "01a271ac",
      "execution_count": 2,
      "outputs": []
    },
    {
      "cell_type": "code",
      "metadata": {
        "id": "a48db6b5"
      },
      "source": [
        "import sqlite3\n",
        "import pandas as pd\n",
        "import numpy as np\n",
        "\n",
        "conn = sqlite3.connect('chinook.db')"
      ],
      "id": "a48db6b5",
      "execution_count": 3,
      "outputs": []
    },
    {
      "cell_type": "markdown",
      "metadata": {
        "id": "2255e5b7"
      },
      "source": [
        "# Discussion Section"
      ],
      "id": "2255e5b7"
    },
    {
      "cell_type": "markdown",
      "metadata": {
        "id": "c4e6b4f9"
      },
      "source": [
        "### Practice simple SELECT query\n",
        "\n",
        "You've done a good job getting to this point! Let's practice writing query that use all keywords we've learned so far."
      ],
      "id": "c4e6b4f9"
    },
    {
      "cell_type": "markdown",
      "metadata": {
        "id": "4516f8e1"
      },
      "source": [
        "# Question 1 (SQL: 10 pts)\n",
        "\n",
        "From Customers table, list all cities in Germany. Order by city.\n",
        "\n",
        " For the automated grading system to work, make sure your table match exactly the given result\n"
      ],
      "id": "4516f8e1"
    },
    {
      "cell_type": "code",
      "metadata": {
        "id": "ba7ff82e"
      },
      "source": [
        ""
      ],
      "id": "ba7ff82e",
      "execution_count": 3,
      "outputs": []
    },
    {
      "cell_type": "code",
      "metadata": {
        "id": "caec6e09"
      },
      "source": [
        "answer_1 = \"\"\"\n",
        "SELECT DISTINCT City\n",
        "FROM Customers\n",
        "WHERE Country = 'Germany'\n",
        "ORDER by City ASC\n",
        "\"\"\"\n"
      ],
      "id": "caec6e09",
      "execution_count": 4,
      "outputs": []
    },
    {
      "cell_type": "code",
      "metadata": {
        "id": "3225d38b",
        "colab": {
          "base_uri": "https://localhost:8080/",
          "height": 142
        },
        "outputId": "256a3780-83ba-4e57-b77c-3c23a9141007"
      },
      "source": [
        "pd.read_sql_query(answer_1, conn)"
      ],
      "id": "3225d38b",
      "execution_count": 5,
      "outputs": [
        {
          "output_type": "execute_result",
          "data": {
            "text/html": [
              "<div>\n",
              "<style scoped>\n",
              "    .dataframe tbody tr th:only-of-type {\n",
              "        vertical-align: middle;\n",
              "    }\n",
              "\n",
              "    .dataframe tbody tr th {\n",
              "        vertical-align: top;\n",
              "    }\n",
              "\n",
              "    .dataframe thead th {\n",
              "        text-align: right;\n",
              "    }\n",
              "</style>\n",
              "<table border=\"1\" class=\"dataframe\">\n",
              "  <thead>\n",
              "    <tr style=\"text-align: right;\">\n",
              "      <th></th>\n",
              "      <th>City</th>\n",
              "    </tr>\n",
              "  </thead>\n",
              "  <tbody>\n",
              "    <tr>\n",
              "      <th>0</th>\n",
              "      <td>Berlin</td>\n",
              "    </tr>\n",
              "    <tr>\n",
              "      <th>1</th>\n",
              "      <td>Frankfurt</td>\n",
              "    </tr>\n",
              "    <tr>\n",
              "      <th>2</th>\n",
              "      <td>Stuttgart</td>\n",
              "    </tr>\n",
              "  </tbody>\n",
              "</table>\n",
              "</div>"
            ],
            "text/plain": [
              "        City\n",
              "0     Berlin\n",
              "1  Frankfurt\n",
              "2  Stuttgart"
            ]
          },
          "metadata": {
            "tags": []
          },
          "execution_count": 5
        }
      ]
    },
    {
      "cell_type": "code",
      "metadata": {
        "id": "cc8d45ab",
        "colab": {
          "base_uri": "https://localhost:8080/"
        },
        "outputId": "abd03349-2bbf-4480-a149-bcea8c1b64cd"
      },
      "source": [
        "#@title ####Run this cell to check your answer {display-mode: \"form\"}\n",
        "idx = 1\n",
        "verify_answer(idx-1,f'answer_{idx}',connection=conn)"
      ],
      "id": "cc8d45ab",
      "execution_count": 6,
      "outputs": [
        {
          "output_type": "stream",
          "text": [
            "Your answer is:\n",
            "\n",
            "SELECT DISTINCT City\n",
            "FROM Customers\n",
            "WHERE Country = 'Germany'\n",
            "ORDER by City ASC\n",
            "\n",
            "You passed! Good job!\n",
            "Your current score: 10/100\n"
          ],
          "name": "stdout"
        }
      ]
    },
    {
      "cell_type": "markdown",
      "metadata": {
        "id": "dc28f587"
      },
      "source": [
        "Your result should look like this: \n",
        "\n",
        "![](https://i.imgur.com/0tDLfnF.png)\n"
      ],
      "id": "dc28f587"
    },
    {
      "cell_type": "markdown",
      "metadata": {
        "id": "4699b64a"
      },
      "source": [
        "# Question 2 (SQL: 10 pts)\n",
        "\n",
        "Sort all customers in the USA by their first name alphabetically. If they have the same first name, sort their last name descendingly\n",
        "\n",
        " For the automated grading system to work, make sure your table match exactly the given result\n"
      ],
      "id": "4699b64a"
    },
    {
      "cell_type": "code",
      "metadata": {
        "id": "fd27e427"
      },
      "source": [
        ""
      ],
      "id": "fd27e427",
      "execution_count": 6,
      "outputs": []
    },
    {
      "cell_type": "code",
      "metadata": {
        "id": "96570bef"
      },
      "source": [
        "answer_2 = \"\"\"\n",
        "SELECT *\n",
        "FROM Customers\n",
        "WHERE Country = 'USA'\n",
        "ORDER by FirstName ASC, LastName DESC\n",
        "\n",
        "\"\"\"\n"
      ],
      "id": "96570bef",
      "execution_count": 7,
      "outputs": []
    },
    {
      "cell_type": "code",
      "metadata": {
        "id": "bf822e06",
        "colab": {
          "base_uri": "https://localhost:8080/",
          "height": 668
        },
        "outputId": "790beeba-3a3a-4bf9-8e99-0c10edf8b13c"
      },
      "source": [
        "pd.read_sql_query(answer_2, conn)"
      ],
      "id": "bf822e06",
      "execution_count": 8,
      "outputs": [
        {
          "output_type": "execute_result",
          "data": {
            "text/html": [
              "<div>\n",
              "<style scoped>\n",
              "    .dataframe tbody tr th:only-of-type {\n",
              "        vertical-align: middle;\n",
              "    }\n",
              "\n",
              "    .dataframe tbody tr th {\n",
              "        vertical-align: top;\n",
              "    }\n",
              "\n",
              "    .dataframe thead th {\n",
              "        text-align: right;\n",
              "    }\n",
              "</style>\n",
              "<table border=\"1\" class=\"dataframe\">\n",
              "  <thead>\n",
              "    <tr style=\"text-align: right;\">\n",
              "      <th></th>\n",
              "      <th>CustomerId</th>\n",
              "      <th>FirstName</th>\n",
              "      <th>LastName</th>\n",
              "      <th>Company</th>\n",
              "      <th>Address</th>\n",
              "      <th>City</th>\n",
              "      <th>State</th>\n",
              "      <th>Country</th>\n",
              "      <th>PostalCode</th>\n",
              "      <th>Phone</th>\n",
              "      <th>Fax</th>\n",
              "      <th>Email</th>\n",
              "      <th>SupportRepId</th>\n",
              "    </tr>\n",
              "  </thead>\n",
              "  <tbody>\n",
              "    <tr>\n",
              "      <th>0</th>\n",
              "      <td>20</td>\n",
              "      <td>Dan</td>\n",
              "      <td>Miller</td>\n",
              "      <td>None</td>\n",
              "      <td>541 Del Medio Avenue</td>\n",
              "      <td>Mountain View</td>\n",
              "      <td>CA</td>\n",
              "      <td>USA</td>\n",
              "      <td>94040-111</td>\n",
              "      <td>+1 (650) 644-3358</td>\n",
              "      <td>None</td>\n",
              "      <td>dmiller@comcast.com</td>\n",
              "      <td>4</td>\n",
              "    </tr>\n",
              "    <tr>\n",
              "      <th>1</th>\n",
              "      <td>24</td>\n",
              "      <td>Frank</td>\n",
              "      <td>Ralston</td>\n",
              "      <td>None</td>\n",
              "      <td>162 E Superior Street</td>\n",
              "      <td>Chicago</td>\n",
              "      <td>IL</td>\n",
              "      <td>USA</td>\n",
              "      <td>60611</td>\n",
              "      <td>+1 (312) 332-3232</td>\n",
              "      <td>None</td>\n",
              "      <td>fralston@gmail.com</td>\n",
              "      <td>3</td>\n",
              "    </tr>\n",
              "    <tr>\n",
              "      <th>2</th>\n",
              "      <td>16</td>\n",
              "      <td>Frank</td>\n",
              "      <td>Harris</td>\n",
              "      <td>Google Inc.</td>\n",
              "      <td>1600 Amphitheatre Parkway</td>\n",
              "      <td>Mountain View</td>\n",
              "      <td>CA</td>\n",
              "      <td>USA</td>\n",
              "      <td>94043-1351</td>\n",
              "      <td>+1 (650) 253-0000</td>\n",
              "      <td>+1 (650) 253-0000</td>\n",
              "      <td>fharris@google.com</td>\n",
              "      <td>4</td>\n",
              "    </tr>\n",
              "    <tr>\n",
              "      <th>3</th>\n",
              "      <td>22</td>\n",
              "      <td>Heather</td>\n",
              "      <td>Leacock</td>\n",
              "      <td>None</td>\n",
              "      <td>120 S Orange Ave</td>\n",
              "      <td>Orlando</td>\n",
              "      <td>FL</td>\n",
              "      <td>USA</td>\n",
              "      <td>32801</td>\n",
              "      <td>+1 (407) 999-7788</td>\n",
              "      <td>None</td>\n",
              "      <td>hleacock@gmail.com</td>\n",
              "      <td>4</td>\n",
              "    </tr>\n",
              "    <tr>\n",
              "      <th>4</th>\n",
              "      <td>17</td>\n",
              "      <td>Jack</td>\n",
              "      <td>Smith</td>\n",
              "      <td>Microsoft Corporation</td>\n",
              "      <td>1 Microsoft Way</td>\n",
              "      <td>Redmond</td>\n",
              "      <td>WA</td>\n",
              "      <td>USA</td>\n",
              "      <td>98052-8300</td>\n",
              "      <td>+1 (425) 882-8080</td>\n",
              "      <td>+1 (425) 882-8081</td>\n",
              "      <td>jacksmith@microsoft.com</td>\n",
              "      <td>5</td>\n",
              "    </tr>\n",
              "    <tr>\n",
              "      <th>5</th>\n",
              "      <td>23</td>\n",
              "      <td>John</td>\n",
              "      <td>Gordon</td>\n",
              "      <td>None</td>\n",
              "      <td>69 Salem Street</td>\n",
              "      <td>Boston</td>\n",
              "      <td>MA</td>\n",
              "      <td>USA</td>\n",
              "      <td>2113</td>\n",
              "      <td>+1 (617) 522-1333</td>\n",
              "      <td>None</td>\n",
              "      <td>johngordon22@yahoo.com</td>\n",
              "      <td>4</td>\n",
              "    </tr>\n",
              "    <tr>\n",
              "      <th>6</th>\n",
              "      <td>28</td>\n",
              "      <td>Julia</td>\n",
              "      <td>Barnett</td>\n",
              "      <td>None</td>\n",
              "      <td>302 S 700 E</td>\n",
              "      <td>Salt Lake City</td>\n",
              "      <td>UT</td>\n",
              "      <td>USA</td>\n",
              "      <td>84102</td>\n",
              "      <td>+1 (801) 531-7272</td>\n",
              "      <td>None</td>\n",
              "      <td>jubarnett@gmail.com</td>\n",
              "      <td>5</td>\n",
              "    </tr>\n",
              "    <tr>\n",
              "      <th>7</th>\n",
              "      <td>21</td>\n",
              "      <td>Kathy</td>\n",
              "      <td>Chase</td>\n",
              "      <td>None</td>\n",
              "      <td>801 W 4th Street</td>\n",
              "      <td>Reno</td>\n",
              "      <td>NV</td>\n",
              "      <td>USA</td>\n",
              "      <td>89503</td>\n",
              "      <td>+1 (775) 223-7665</td>\n",
              "      <td>None</td>\n",
              "      <td>kachase@hotmail.com</td>\n",
              "      <td>5</td>\n",
              "    </tr>\n",
              "    <tr>\n",
              "      <th>8</th>\n",
              "      <td>18</td>\n",
              "      <td>Michelle</td>\n",
              "      <td>Brooks</td>\n",
              "      <td>None</td>\n",
              "      <td>627 Broadway</td>\n",
              "      <td>New York</td>\n",
              "      <td>NY</td>\n",
              "      <td>USA</td>\n",
              "      <td>10012-2612</td>\n",
              "      <td>+1 (212) 221-3546</td>\n",
              "      <td>+1 (212) 221-4679</td>\n",
              "      <td>michelleb@aol.com</td>\n",
              "      <td>3</td>\n",
              "    </tr>\n",
              "    <tr>\n",
              "      <th>9</th>\n",
              "      <td>27</td>\n",
              "      <td>Patrick</td>\n",
              "      <td>Gray</td>\n",
              "      <td>None</td>\n",
              "      <td>1033 N Park Ave</td>\n",
              "      <td>Tucson</td>\n",
              "      <td>AZ</td>\n",
              "      <td>USA</td>\n",
              "      <td>85719</td>\n",
              "      <td>+1 (520) 622-4200</td>\n",
              "      <td>None</td>\n",
              "      <td>patrick.gray@aol.com</td>\n",
              "      <td>4</td>\n",
              "    </tr>\n",
              "    <tr>\n",
              "      <th>10</th>\n",
              "      <td>26</td>\n",
              "      <td>Richard</td>\n",
              "      <td>Cunningham</td>\n",
              "      <td>None</td>\n",
              "      <td>2211 W Berry Street</td>\n",
              "      <td>Fort Worth</td>\n",
              "      <td>TX</td>\n",
              "      <td>USA</td>\n",
              "      <td>76110</td>\n",
              "      <td>+1 (817) 924-7272</td>\n",
              "      <td>None</td>\n",
              "      <td>ricunningham@hotmail.com</td>\n",
              "      <td>4</td>\n",
              "    </tr>\n",
              "    <tr>\n",
              "      <th>11</th>\n",
              "      <td>19</td>\n",
              "      <td>Tim</td>\n",
              "      <td>Goyer</td>\n",
              "      <td>Apple Inc.</td>\n",
              "      <td>1 Infinite Loop</td>\n",
              "      <td>Cupertino</td>\n",
              "      <td>CA</td>\n",
              "      <td>USA</td>\n",
              "      <td>95014</td>\n",
              "      <td>+1 (408) 996-1010</td>\n",
              "      <td>+1 (408) 996-1011</td>\n",
              "      <td>tgoyer@apple.com</td>\n",
              "      <td>3</td>\n",
              "    </tr>\n",
              "    <tr>\n",
              "      <th>12</th>\n",
              "      <td>25</td>\n",
              "      <td>Victor</td>\n",
              "      <td>Stevens</td>\n",
              "      <td>None</td>\n",
              "      <td>319 N. Frances Street</td>\n",
              "      <td>Madison</td>\n",
              "      <td>WI</td>\n",
              "      <td>USA</td>\n",
              "      <td>53703</td>\n",
              "      <td>+1 (608) 257-0597</td>\n",
              "      <td>None</td>\n",
              "      <td>vstevens@yahoo.com</td>\n",
              "      <td>5</td>\n",
              "    </tr>\n",
              "  </tbody>\n",
              "</table>\n",
              "</div>"
            ],
            "text/plain": [
              "    CustomerId FirstName  ...                     Email SupportRepId\n",
              "0           20       Dan  ...       dmiller@comcast.com            4\n",
              "1           24     Frank  ...        fralston@gmail.com            3\n",
              "2           16     Frank  ...        fharris@google.com            4\n",
              "3           22   Heather  ...        hleacock@gmail.com            4\n",
              "4           17      Jack  ...   jacksmith@microsoft.com            5\n",
              "5           23      John  ...    johngordon22@yahoo.com            4\n",
              "6           28     Julia  ...       jubarnett@gmail.com            5\n",
              "7           21     Kathy  ...       kachase@hotmail.com            5\n",
              "8           18  Michelle  ...         michelleb@aol.com            3\n",
              "9           27   Patrick  ...      patrick.gray@aol.com            4\n",
              "10          26   Richard  ...  ricunningham@hotmail.com            4\n",
              "11          19       Tim  ...          tgoyer@apple.com            3\n",
              "12          25    Victor  ...        vstevens@yahoo.com            5\n",
              "\n",
              "[13 rows x 13 columns]"
            ]
          },
          "metadata": {
            "tags": []
          },
          "execution_count": 8
        }
      ]
    },
    {
      "cell_type": "code",
      "metadata": {
        "id": "2421b06e",
        "colab": {
          "base_uri": "https://localhost:8080/"
        },
        "outputId": "fbb87041-2a4c-426f-a96a-764382163eaa"
      },
      "source": [
        "#@title ####Run this cell to check your answer {display-mode: \"form\"}\n",
        "idx = 2\n",
        "verify_answer(idx-1,f'answer_{idx}',connection=conn)"
      ],
      "id": "2421b06e",
      "execution_count": 9,
      "outputs": [
        {
          "output_type": "stream",
          "text": [
            "Your answer is:\n",
            "\n",
            "SELECT *\n",
            "FROM Customers\n",
            "WHERE Country = 'USA'\n",
            "ORDER by FirstName ASC, LastName DESC\n",
            "\n",
            "\n",
            "You passed! Good job!\n",
            "Your current score: 20/100\n"
          ],
          "name": "stdout"
        }
      ]
    },
    {
      "cell_type": "markdown",
      "metadata": {
        "id": "fe883a45"
      },
      "source": [
        "Your result table should look like this\n",
        "\n",
        "![](https://i.imgur.com/ZAGE5Ej.png)\n"
      ],
      "id": "fe883a45"
    },
    {
      "cell_type": "markdown",
      "metadata": {
        "id": "a84394a7"
      },
      "source": [
        "# Question 3 (SQL: 10 pts)\n",
        "\n",
        "List three most expensive bills in Boston, USA\n"
      ],
      "id": "a84394a7"
    },
    {
      "cell_type": "code",
      "metadata": {
        "id": "cc266c38"
      },
      "source": [
        ""
      ],
      "id": "cc266c38",
      "execution_count": 11,
      "outputs": []
    },
    {
      "cell_type": "code",
      "metadata": {
        "id": "1133aa87"
      },
      "source": [
        "answer_3 = \"\"\"\n",
        "\n",
        "SELECT * \n",
        "FROM invoices\n",
        "WHERE BillingCity = 'Boston' AND BillingCountry = 'USA'\n",
        "ORDER BY Total DESC LIMIT 3\n",
        "\n",
        "\n",
        "\n",
        "\"\"\"\n"
      ],
      "id": "1133aa87",
      "execution_count": 21,
      "outputs": []
    },
    {
      "cell_type": "code",
      "metadata": {
        "id": "10712d4e",
        "colab": {
          "base_uri": "https://localhost:8080/",
          "height": 142
        },
        "outputId": "0b4532d7-0676-452d-85f8-39cba43fab49"
      },
      "source": [
        "pd.read_sql_query(answer_3, conn)"
      ],
      "id": "10712d4e",
      "execution_count": 22,
      "outputs": [
        {
          "output_type": "execute_result",
          "data": {
            "text/html": [
              "<div>\n",
              "<style scoped>\n",
              "    .dataframe tbody tr th:only-of-type {\n",
              "        vertical-align: middle;\n",
              "    }\n",
              "\n",
              "    .dataframe tbody tr th {\n",
              "        vertical-align: top;\n",
              "    }\n",
              "\n",
              "    .dataframe thead th {\n",
              "        text-align: right;\n",
              "    }\n",
              "</style>\n",
              "<table border=\"1\" class=\"dataframe\">\n",
              "  <thead>\n",
              "    <tr style=\"text-align: right;\">\n",
              "      <th></th>\n",
              "      <th>InvoiceId</th>\n",
              "      <th>CustomerId</th>\n",
              "      <th>InvoiceDate</th>\n",
              "      <th>BillingAddress</th>\n",
              "      <th>BillingCity</th>\n",
              "      <th>BillingState</th>\n",
              "      <th>BillingCountry</th>\n",
              "      <th>BillingPostalCode</th>\n",
              "      <th>Total</th>\n",
              "    </tr>\n",
              "  </thead>\n",
              "  <tbody>\n",
              "    <tr>\n",
              "      <th>0</th>\n",
              "      <td>5</td>\n",
              "      <td>23</td>\n",
              "      <td>2009-01-11 00:00:00</td>\n",
              "      <td>69 Salem Street</td>\n",
              "      <td>Boston</td>\n",
              "      <td>MA</td>\n",
              "      <td>USA</td>\n",
              "      <td>2113</td>\n",
              "      <td>13.86</td>\n",
              "    </tr>\n",
              "    <tr>\n",
              "      <th>1</th>\n",
              "      <td>60</td>\n",
              "      <td>23</td>\n",
              "      <td>2009-09-11 00:00:00</td>\n",
              "      <td>69 Salem Street</td>\n",
              "      <td>Boston</td>\n",
              "      <td>MA</td>\n",
              "      <td>USA</td>\n",
              "      <td>2113</td>\n",
              "      <td>8.91</td>\n",
              "    </tr>\n",
              "    <tr>\n",
              "      <th>2</th>\n",
              "      <td>234</td>\n",
              "      <td>23</td>\n",
              "      <td>2011-10-23 00:00:00</td>\n",
              "      <td>69 Salem Street</td>\n",
              "      <td>Boston</td>\n",
              "      <td>MA</td>\n",
              "      <td>USA</td>\n",
              "      <td>2113</td>\n",
              "      <td>5.94</td>\n",
              "    </tr>\n",
              "  </tbody>\n",
              "</table>\n",
              "</div>"
            ],
            "text/plain": [
              "   InvoiceId  CustomerId  ... BillingPostalCode  Total\n",
              "0          5          23  ...              2113  13.86\n",
              "1         60          23  ...              2113   8.91\n",
              "2        234          23  ...              2113   5.94\n",
              "\n",
              "[3 rows x 9 columns]"
            ]
          },
          "metadata": {
            "tags": []
          },
          "execution_count": 22
        }
      ]
    },
    {
      "cell_type": "code",
      "metadata": {
        "id": "a080a8a8",
        "colab": {
          "base_uri": "https://localhost:8080/"
        },
        "outputId": "e33a524e-366a-46a0-cce8-7daa6f82347e"
      },
      "source": [
        "#@title ####Run this cell to check your answer {display-mode: \"form\"}\n",
        "idx = 3\n",
        "verify_answer(idx-1,f'answer_{idx}',connection=conn)"
      ],
      "id": "a080a8a8",
      "execution_count": 23,
      "outputs": [
        {
          "output_type": "stream",
          "text": [
            "Your answer is:\n",
            "\n",
            "\n",
            "SELECT * \n",
            "FROM invoices\n",
            "WHERE BillingCity = 'Boston' AND BillingCountry = 'USA'\n",
            "ORDER BY Total DESC LIMIT 3\n",
            "\n",
            "\n",
            "\n",
            "\n",
            "You passed! Good job!\n",
            "Your current score: 30/100\n"
          ],
          "name": "stdout"
        }
      ]
    },
    {
      "cell_type": "markdown",
      "metadata": {
        "id": "e0dcf040"
      },
      "source": [
        "Your result table should look like this\n",
        "\n",
        "![](https://i.imgur.com/Eco2J77.png)\n",
        "\n"
      ],
      "id": "e0dcf040"
    },
    {
      "cell_type": "markdown",
      "metadata": {
        "id": "aa8eb26a"
      },
      "source": [
        "# Question 4 (SQL: 10 pts)\n",
        "\n",
        "List the third and fourth most expensive bill in 2012\n"
      ],
      "id": "aa8eb26a"
    },
    {
      "cell_type": "code",
      "metadata": {
        "id": "84dfed0e"
      },
      "source": [
        ""
      ],
      "id": "84dfed0e",
      "execution_count": null,
      "outputs": []
    },
    {
      "cell_type": "code",
      "metadata": {
        "id": "b12b0ff0"
      },
      "source": [
        "answer_4 = \"\"\"\n",
        "SELECT * \n",
        "FROM Invoices\n",
        "WHERE InvoiceDate LIKE '2012%'\n",
        "ORDER BY Total DESC\n",
        "LIMIT 2 OFFSET 2\n",
        "\n",
        "\"\"\"\n"
      ],
      "id": "b12b0ff0",
      "execution_count": 59,
      "outputs": []
    },
    {
      "cell_type": "code",
      "metadata": {
        "id": "a64482ce",
        "colab": {
          "base_uri": "https://localhost:8080/",
          "height": 110
        },
        "outputId": "08518f89-1e51-477b-8122-40e6d0e8b3fd"
      },
      "source": [
        "pd.read_sql_query(answer_4, conn)"
      ],
      "id": "a64482ce",
      "execution_count": 60,
      "outputs": [
        {
          "output_type": "execute_result",
          "data": {
            "text/html": [
              "<div>\n",
              "<style scoped>\n",
              "    .dataframe tbody tr th:only-of-type {\n",
              "        vertical-align: middle;\n",
              "    }\n",
              "\n",
              "    .dataframe tbody tr th {\n",
              "        vertical-align: top;\n",
              "    }\n",
              "\n",
              "    .dataframe thead th {\n",
              "        text-align: right;\n",
              "    }\n",
              "</style>\n",
              "<table border=\"1\" class=\"dataframe\">\n",
              "  <thead>\n",
              "    <tr style=\"text-align: right;\">\n",
              "      <th></th>\n",
              "      <th>InvoiceId</th>\n",
              "      <th>CustomerId</th>\n",
              "      <th>InvoiceDate</th>\n",
              "      <th>BillingAddress</th>\n",
              "      <th>BillingCity</th>\n",
              "      <th>BillingState</th>\n",
              "      <th>BillingCountry</th>\n",
              "      <th>BillingPostalCode</th>\n",
              "      <th>Total</th>\n",
              "    </tr>\n",
              "  </thead>\n",
              "  <tbody>\n",
              "    <tr>\n",
              "      <th>0</th>\n",
              "      <td>313</td>\n",
              "      <td>43</td>\n",
              "      <td>2012-10-06 00:00:00</td>\n",
              "      <td>68, Rue Jouvence</td>\n",
              "      <td>Dijon</td>\n",
              "      <td>None</td>\n",
              "      <td>France</td>\n",
              "      <td>21000</td>\n",
              "      <td>16.86</td>\n",
              "    </tr>\n",
              "    <tr>\n",
              "      <th>1</th>\n",
              "      <td>250</td>\n",
              "      <td>55</td>\n",
              "      <td>2012-01-01 00:00:00</td>\n",
              "      <td>421 Bourke Street</td>\n",
              "      <td>Sidney</td>\n",
              "      <td>NSW</td>\n",
              "      <td>Australia</td>\n",
              "      <td>2010</td>\n",
              "      <td>13.86</td>\n",
              "    </tr>\n",
              "  </tbody>\n",
              "</table>\n",
              "</div>"
            ],
            "text/plain": [
              "   InvoiceId  CustomerId  ... BillingPostalCode  Total\n",
              "0        313          43  ...             21000  16.86\n",
              "1        250          55  ...              2010  13.86\n",
              "\n",
              "[2 rows x 9 columns]"
            ]
          },
          "metadata": {
            "tags": []
          },
          "execution_count": 60
        }
      ]
    },
    {
      "cell_type": "code",
      "metadata": {
        "id": "60ef1a84",
        "colab": {
          "base_uri": "https://localhost:8080/"
        },
        "outputId": "e980fc68-82d0-4857-fe33-edb4e91c6ca2"
      },
      "source": [
        "#@title ####Run this cell to check your answer {display-mode: \"form\"}\n",
        "idx = 4\n",
        "verify_answer(idx-1,f'answer_{idx}',connection=conn)"
      ],
      "id": "60ef1a84",
      "execution_count": 61,
      "outputs": [
        {
          "output_type": "stream",
          "text": [
            "Your answer is:\n",
            "\n",
            "SELECT * \n",
            "FROM Invoices\n",
            "WHERE InvoiceDate LIKE '2012%'\n",
            "ORDER BY Total DESC\n",
            "LIMIT 2 OFFSET 2\n",
            "\n",
            "\n",
            "You passed! Good job!\n",
            "Your current score: 80/100\n"
          ],
          "name": "stdout"
        }
      ]
    },
    {
      "cell_type": "markdown",
      "metadata": {
        "id": "30b9d645"
      },
      "source": [
        "Your result table should look like this\n",
        "\n",
        "![](https://i.imgur.com/4oCaOFK.png)\n"
      ],
      "id": "30b9d645"
    },
    {
      "cell_type": "markdown",
      "metadata": {
        "id": "5667c6c5"
      },
      "source": [
        "# Question 5 (SQL: 20 pts)\n",
        "\n",
        "Find all customers who work at Google, Microsoft or Apple. Order them by State and City increasingly "
      ],
      "id": "5667c6c5"
    },
    {
      "cell_type": "code",
      "metadata": {
        "id": "844c0695"
      },
      "source": [
        ""
      ],
      "id": "844c0695",
      "execution_count": null,
      "outputs": []
    },
    {
      "cell_type": "code",
      "metadata": {
        "id": "1d95308e"
      },
      "source": [
        "answer_5 = \"\"\"\n",
        "SELECT * \n",
        "FROM Customers\n",
        "WHERE Company IN ('Apple Inc.', 'Google Inc.', 'Microsoft Corporation')\n",
        "ORDER BY STATE ASC, CITY ASC\n",
        "\"\"\"\n"
      ],
      "id": "1d95308e",
      "execution_count": 48,
      "outputs": []
    },
    {
      "cell_type": "code",
      "metadata": {
        "id": "1c4e33d5",
        "colab": {
          "base_uri": "https://localhost:8080/",
          "height": 192
        },
        "outputId": "b7779eb6-cef7-49d1-8f17-3f8cdedb57c6"
      },
      "source": [
        "pd.read_sql_query(answer_5, conn)"
      ],
      "id": "1c4e33d5",
      "execution_count": 49,
      "outputs": [
        {
          "output_type": "execute_result",
          "data": {
            "text/html": [
              "<div>\n",
              "<style scoped>\n",
              "    .dataframe tbody tr th:only-of-type {\n",
              "        vertical-align: middle;\n",
              "    }\n",
              "\n",
              "    .dataframe tbody tr th {\n",
              "        vertical-align: top;\n",
              "    }\n",
              "\n",
              "    .dataframe thead th {\n",
              "        text-align: right;\n",
              "    }\n",
              "</style>\n",
              "<table border=\"1\" class=\"dataframe\">\n",
              "  <thead>\n",
              "    <tr style=\"text-align: right;\">\n",
              "      <th></th>\n",
              "      <th>CustomerId</th>\n",
              "      <th>FirstName</th>\n",
              "      <th>LastName</th>\n",
              "      <th>Company</th>\n",
              "      <th>Address</th>\n",
              "      <th>City</th>\n",
              "      <th>State</th>\n",
              "      <th>Country</th>\n",
              "      <th>PostalCode</th>\n",
              "      <th>Phone</th>\n",
              "      <th>Fax</th>\n",
              "      <th>Email</th>\n",
              "      <th>SupportRepId</th>\n",
              "    </tr>\n",
              "  </thead>\n",
              "  <tbody>\n",
              "    <tr>\n",
              "      <th>0</th>\n",
              "      <td>19</td>\n",
              "      <td>Tim</td>\n",
              "      <td>Goyer</td>\n",
              "      <td>Apple Inc.</td>\n",
              "      <td>1 Infinite Loop</td>\n",
              "      <td>Cupertino</td>\n",
              "      <td>CA</td>\n",
              "      <td>USA</td>\n",
              "      <td>95014</td>\n",
              "      <td>+1 (408) 996-1010</td>\n",
              "      <td>+1 (408) 996-1011</td>\n",
              "      <td>tgoyer@apple.com</td>\n",
              "      <td>3</td>\n",
              "    </tr>\n",
              "    <tr>\n",
              "      <th>1</th>\n",
              "      <td>16</td>\n",
              "      <td>Frank</td>\n",
              "      <td>Harris</td>\n",
              "      <td>Google Inc.</td>\n",
              "      <td>1600 Amphitheatre Parkway</td>\n",
              "      <td>Mountain View</td>\n",
              "      <td>CA</td>\n",
              "      <td>USA</td>\n",
              "      <td>94043-1351</td>\n",
              "      <td>+1 (650) 253-0000</td>\n",
              "      <td>+1 (650) 253-0000</td>\n",
              "      <td>fharris@google.com</td>\n",
              "      <td>4</td>\n",
              "    </tr>\n",
              "    <tr>\n",
              "      <th>2</th>\n",
              "      <td>17</td>\n",
              "      <td>Jack</td>\n",
              "      <td>Smith</td>\n",
              "      <td>Microsoft Corporation</td>\n",
              "      <td>1 Microsoft Way</td>\n",
              "      <td>Redmond</td>\n",
              "      <td>WA</td>\n",
              "      <td>USA</td>\n",
              "      <td>98052-8300</td>\n",
              "      <td>+1 (425) 882-8080</td>\n",
              "      <td>+1 (425) 882-8081</td>\n",
              "      <td>jacksmith@microsoft.com</td>\n",
              "      <td>5</td>\n",
              "    </tr>\n",
              "  </tbody>\n",
              "</table>\n",
              "</div>"
            ],
            "text/plain": [
              "   CustomerId FirstName  ...                    Email SupportRepId\n",
              "0          19       Tim  ...         tgoyer@apple.com            3\n",
              "1          16     Frank  ...       fharris@google.com            4\n",
              "2          17      Jack  ...  jacksmith@microsoft.com            5\n",
              "\n",
              "[3 rows x 13 columns]"
            ]
          },
          "metadata": {
            "tags": []
          },
          "execution_count": 49
        }
      ]
    },
    {
      "cell_type": "code",
      "metadata": {
        "id": "687a16c6",
        "colab": {
          "base_uri": "https://localhost:8080/"
        },
        "outputId": "d9ad5280-ab5f-416f-8eed-0844d99a099e"
      },
      "source": [
        "#@title ####Run this cell to check your answer {display-mode: \"form\"}\n",
        "idx = 5\n",
        "verify_answer(idx-1,f'answer_{idx}',connection=conn)"
      ],
      "id": "687a16c6",
      "execution_count": 50,
      "outputs": [
        {
          "output_type": "stream",
          "text": [
            "Your answer is:\n",
            "\n",
            "SELECT * \n",
            "FROM Customers\n",
            "WHERE Company IN ('Apple Inc.', 'Google Inc.', 'Microsoft Corporation')\n",
            "ORDER BY STATE ASC, CITY ASC\n",
            "\n",
            "You passed! Good job!\n",
            "Your current score: 70/100\n"
          ],
          "name": "stdout"
        }
      ]
    },
    {
      "cell_type": "markdown",
      "metadata": {
        "id": "b56e2a89"
      },
      "source": [
        "Your result table should look like this\n",
        "\n",
        "![](https://i.imgur.com/iiXgrTq.png)\n"
      ],
      "id": "b56e2a89"
    },
    {
      "cell_type": "markdown",
      "metadata": {
        "id": "607f9a8a"
      },
      "source": [
        "# Question 6 (SQL: 20 pts)\n",
        "\n",
        "Get all the countries from Invoices table where BillingState is NULL. Sort them alphabetically"
      ],
      "id": "607f9a8a"
    },
    {
      "cell_type": "code",
      "metadata": {
        "id": "6ca759d2"
      },
      "source": [
        ""
      ],
      "id": "6ca759d2",
      "execution_count": 37,
      "outputs": []
    },
    {
      "cell_type": "code",
      "metadata": {
        "id": "58109306"
      },
      "source": [
        "answer_6 = \"\"\"\n",
        "SELECT DISTINCT BillingCountry\n",
        "FROM invoices\n",
        "WHERE BillingState IS NULL\n",
        "ORDER by BillingCountry ASC\n",
        "\"\"\"\n"
      ],
      "id": "58109306",
      "execution_count": 41,
      "outputs": []
    },
    {
      "cell_type": "code",
      "metadata": {
        "id": "ff1a7a02",
        "colab": {
          "base_uri": "https://localhost:8080/",
          "height": 573
        },
        "outputId": "9d2a7f43-a069-4606-a64f-634a6d1d81e1"
      },
      "source": [
        "pd.read_sql_query(answer_6, conn)"
      ],
      "id": "ff1a7a02",
      "execution_count": 42,
      "outputs": [
        {
          "output_type": "execute_result",
          "data": {
            "text/html": [
              "<div>\n",
              "<style scoped>\n",
              "    .dataframe tbody tr th:only-of-type {\n",
              "        vertical-align: middle;\n",
              "    }\n",
              "\n",
              "    .dataframe tbody tr th {\n",
              "        vertical-align: top;\n",
              "    }\n",
              "\n",
              "    .dataframe thead th {\n",
              "        text-align: right;\n",
              "    }\n",
              "</style>\n",
              "<table border=\"1\" class=\"dataframe\">\n",
              "  <thead>\n",
              "    <tr style=\"text-align: right;\">\n",
              "      <th></th>\n",
              "      <th>BillingCountry</th>\n",
              "    </tr>\n",
              "  </thead>\n",
              "  <tbody>\n",
              "    <tr>\n",
              "      <th>0</th>\n",
              "      <td>Argentina</td>\n",
              "    </tr>\n",
              "    <tr>\n",
              "      <th>1</th>\n",
              "      <td>Austria</td>\n",
              "    </tr>\n",
              "    <tr>\n",
              "      <th>2</th>\n",
              "      <td>Belgium</td>\n",
              "    </tr>\n",
              "    <tr>\n",
              "      <th>3</th>\n",
              "      <td>Chile</td>\n",
              "    </tr>\n",
              "    <tr>\n",
              "      <th>4</th>\n",
              "      <td>Czech Republic</td>\n",
              "    </tr>\n",
              "    <tr>\n",
              "      <th>5</th>\n",
              "      <td>Denmark</td>\n",
              "    </tr>\n",
              "    <tr>\n",
              "      <th>6</th>\n",
              "      <td>Finland</td>\n",
              "    </tr>\n",
              "    <tr>\n",
              "      <th>7</th>\n",
              "      <td>France</td>\n",
              "    </tr>\n",
              "    <tr>\n",
              "      <th>8</th>\n",
              "      <td>Germany</td>\n",
              "    </tr>\n",
              "    <tr>\n",
              "      <th>9</th>\n",
              "      <td>Hungary</td>\n",
              "    </tr>\n",
              "    <tr>\n",
              "      <th>10</th>\n",
              "      <td>India</td>\n",
              "    </tr>\n",
              "    <tr>\n",
              "      <th>11</th>\n",
              "      <td>Norway</td>\n",
              "    </tr>\n",
              "    <tr>\n",
              "      <th>12</th>\n",
              "      <td>Poland</td>\n",
              "    </tr>\n",
              "    <tr>\n",
              "      <th>13</th>\n",
              "      <td>Portugal</td>\n",
              "    </tr>\n",
              "    <tr>\n",
              "      <th>14</th>\n",
              "      <td>Spain</td>\n",
              "    </tr>\n",
              "    <tr>\n",
              "      <th>15</th>\n",
              "      <td>Sweden</td>\n",
              "    </tr>\n",
              "    <tr>\n",
              "      <th>16</th>\n",
              "      <td>United Kingdom</td>\n",
              "    </tr>\n",
              "  </tbody>\n",
              "</table>\n",
              "</div>"
            ],
            "text/plain": [
              "    BillingCountry\n",
              "0        Argentina\n",
              "1          Austria\n",
              "2          Belgium\n",
              "3            Chile\n",
              "4   Czech Republic\n",
              "5          Denmark\n",
              "6          Finland\n",
              "7           France\n",
              "8          Germany\n",
              "9          Hungary\n",
              "10           India\n",
              "11          Norway\n",
              "12          Poland\n",
              "13        Portugal\n",
              "14           Spain\n",
              "15          Sweden\n",
              "16  United Kingdom"
            ]
          },
          "metadata": {
            "tags": []
          },
          "execution_count": 42
        }
      ]
    },
    {
      "cell_type": "code",
      "metadata": {
        "id": "7ea87462",
        "colab": {
          "base_uri": "https://localhost:8080/"
        },
        "outputId": "919f8ee3-d531-4e9e-d0de-8b2fcb153f33"
      },
      "source": [
        "#@title ####Run this cell to check your answer {display-mode: \"form\"}\n",
        "idx = 6\n",
        "verify_answer(idx-1,f'answer_{idx}',connection=conn)"
      ],
      "id": "7ea87462",
      "execution_count": 62,
      "outputs": [
        {
          "output_type": "stream",
          "text": [
            "Your answer is:\n",
            "\n",
            "SELECT DISTINCT BillingCountry\n",
            "FROM invoices\n",
            "WHERE BillingState IS NULL\n",
            "ORDER by BillingCountry ASC\n",
            "\n",
            "You passed! Good job!\n",
            "Your current score: 80/100\n"
          ],
          "name": "stdout"
        }
      ]
    },
    {
      "cell_type": "markdown",
      "metadata": {
        "id": "56cb533e"
      },
      "source": [
        "Your result table should look like this\n",
        "\n",
        "![](https://i.imgur.com/fpBWAkZ.png)\n"
      ],
      "id": "56cb533e"
    },
    {
      "cell_type": "markdown",
      "metadata": {
        "id": "0eb31ef5"
      },
      "source": [
        "# Question 7 (SQL: 20 pts)\n",
        "\n",
        "Get all the cities from Invoices table that DO NOT start with vowels (Vowels contains character a,e,i,o,u). Sort them alphabetically"
      ],
      "id": "0eb31ef5"
    },
    {
      "cell_type": "code",
      "metadata": {
        "id": "e0c106f9"
      },
      "source": [
        ""
      ],
      "id": "e0c106f9",
      "execution_count": 63,
      "outputs": []
    },
    {
      "cell_type": "code",
      "metadata": {
        "id": "6071ce90"
      },
      "source": [
        "answer_7 = \"\"\"\n",
        "SELECT DISTINCT BillingCity \n",
        "FROM Invoices\n",
        "WHERE BillingCity NOT LIKE \"A%\" AND BillingCity NOT LIKE \"O%\" AND BillingCity NOT LIKE \"E%\" AND BillingCity NOT LIKE \"I%\" AND BillingCity NOT LIKE \"U%\"\n",
        "ORDER BY BillingCity ASC\n",
        "\n",
        "\"\"\"\n"
      ],
      "id": "6071ce90",
      "execution_count": 83,
      "outputs": []
    },
    {
      "cell_type": "code",
      "metadata": {
        "id": "da86c8bb",
        "colab": {
          "base_uri": "https://localhost:8080/",
          "height": 1000
        },
        "outputId": "9bd2dee5-0593-4552-b72a-e1f03650b2a6"
      },
      "source": [
        "pd.read_sql_query(answer_7, conn)"
      ],
      "id": "da86c8bb",
      "execution_count": 84,
      "outputs": [
        {
          "output_type": "execute_result",
          "data": {
            "text/html": [
              "<div>\n",
              "<style scoped>\n",
              "    .dataframe tbody tr th:only-of-type {\n",
              "        vertical-align: middle;\n",
              "    }\n",
              "\n",
              "    .dataframe tbody tr th {\n",
              "        vertical-align: top;\n",
              "    }\n",
              "\n",
              "    .dataframe thead th {\n",
              "        text-align: right;\n",
              "    }\n",
              "</style>\n",
              "<table border=\"1\" class=\"dataframe\">\n",
              "  <thead>\n",
              "    <tr style=\"text-align: right;\">\n",
              "      <th></th>\n",
              "      <th>BillingCity</th>\n",
              "    </tr>\n",
              "  </thead>\n",
              "  <tbody>\n",
              "    <tr>\n",
              "      <th>0</th>\n",
              "      <td>Bangalore</td>\n",
              "    </tr>\n",
              "    <tr>\n",
              "      <th>1</th>\n",
              "      <td>Berlin</td>\n",
              "    </tr>\n",
              "    <tr>\n",
              "      <th>2</th>\n",
              "      <td>Bordeaux</td>\n",
              "    </tr>\n",
              "    <tr>\n",
              "      <th>3</th>\n",
              "      <td>Boston</td>\n",
              "    </tr>\n",
              "    <tr>\n",
              "      <th>4</th>\n",
              "      <td>Brasília</td>\n",
              "    </tr>\n",
              "    <tr>\n",
              "      <th>5</th>\n",
              "      <td>Brussels</td>\n",
              "    </tr>\n",
              "    <tr>\n",
              "      <th>6</th>\n",
              "      <td>Budapest</td>\n",
              "    </tr>\n",
              "    <tr>\n",
              "      <th>7</th>\n",
              "      <td>Buenos Aires</td>\n",
              "    </tr>\n",
              "    <tr>\n",
              "      <th>8</th>\n",
              "      <td>Chicago</td>\n",
              "    </tr>\n",
              "    <tr>\n",
              "      <th>9</th>\n",
              "      <td>Copenhagen</td>\n",
              "    </tr>\n",
              "    <tr>\n",
              "      <th>10</th>\n",
              "      <td>Cupertino</td>\n",
              "    </tr>\n",
              "    <tr>\n",
              "      <th>11</th>\n",
              "      <td>Delhi</td>\n",
              "    </tr>\n",
              "    <tr>\n",
              "      <th>12</th>\n",
              "      <td>Dijon</td>\n",
              "    </tr>\n",
              "    <tr>\n",
              "      <th>13</th>\n",
              "      <td>Dublin</td>\n",
              "    </tr>\n",
              "    <tr>\n",
              "      <th>14</th>\n",
              "      <td>Fort Worth</td>\n",
              "    </tr>\n",
              "    <tr>\n",
              "      <th>15</th>\n",
              "      <td>Frankfurt</td>\n",
              "    </tr>\n",
              "    <tr>\n",
              "      <th>16</th>\n",
              "      <td>Halifax</td>\n",
              "    </tr>\n",
              "    <tr>\n",
              "      <th>17</th>\n",
              "      <td>Helsinki</td>\n",
              "    </tr>\n",
              "    <tr>\n",
              "      <th>18</th>\n",
              "      <td>Lisbon</td>\n",
              "    </tr>\n",
              "    <tr>\n",
              "      <th>19</th>\n",
              "      <td>London</td>\n",
              "    </tr>\n",
              "    <tr>\n",
              "      <th>20</th>\n",
              "      <td>Lyon</td>\n",
              "    </tr>\n",
              "    <tr>\n",
              "      <th>21</th>\n",
              "      <td>Madison</td>\n",
              "    </tr>\n",
              "    <tr>\n",
              "      <th>22</th>\n",
              "      <td>Madrid</td>\n",
              "    </tr>\n",
              "    <tr>\n",
              "      <th>23</th>\n",
              "      <td>Montréal</td>\n",
              "    </tr>\n",
              "    <tr>\n",
              "      <th>24</th>\n",
              "      <td>Mountain View</td>\n",
              "    </tr>\n",
              "    <tr>\n",
              "      <th>25</th>\n",
              "      <td>New York</td>\n",
              "    </tr>\n",
              "    <tr>\n",
              "      <th>26</th>\n",
              "      <td>Paris</td>\n",
              "    </tr>\n",
              "    <tr>\n",
              "      <th>27</th>\n",
              "      <td>Porto</td>\n",
              "    </tr>\n",
              "    <tr>\n",
              "      <th>28</th>\n",
              "      <td>Prague</td>\n",
              "    </tr>\n",
              "    <tr>\n",
              "      <th>29</th>\n",
              "      <td>Redmond</td>\n",
              "    </tr>\n",
              "    <tr>\n",
              "      <th>30</th>\n",
              "      <td>Reno</td>\n",
              "    </tr>\n",
              "    <tr>\n",
              "      <th>31</th>\n",
              "      <td>Rio de Janeiro</td>\n",
              "    </tr>\n",
              "    <tr>\n",
              "      <th>32</th>\n",
              "      <td>Rome</td>\n",
              "    </tr>\n",
              "    <tr>\n",
              "      <th>33</th>\n",
              "      <td>Salt Lake City</td>\n",
              "    </tr>\n",
              "    <tr>\n",
              "      <th>34</th>\n",
              "      <td>Santiago</td>\n",
              "    </tr>\n",
              "    <tr>\n",
              "      <th>35</th>\n",
              "      <td>Sidney</td>\n",
              "    </tr>\n",
              "    <tr>\n",
              "      <th>36</th>\n",
              "      <td>Stockholm</td>\n",
              "    </tr>\n",
              "    <tr>\n",
              "      <th>37</th>\n",
              "      <td>Stuttgart</td>\n",
              "    </tr>\n",
              "    <tr>\n",
              "      <th>38</th>\n",
              "      <td>São José dos Campos</td>\n",
              "    </tr>\n",
              "    <tr>\n",
              "      <th>39</th>\n",
              "      <td>São Paulo</td>\n",
              "    </tr>\n",
              "    <tr>\n",
              "      <th>40</th>\n",
              "      <td>Toronto</td>\n",
              "    </tr>\n",
              "    <tr>\n",
              "      <th>41</th>\n",
              "      <td>Tucson</td>\n",
              "    </tr>\n",
              "    <tr>\n",
              "      <th>42</th>\n",
              "      <td>Vancouver</td>\n",
              "    </tr>\n",
              "    <tr>\n",
              "      <th>43</th>\n",
              "      <td>Vienne</td>\n",
              "    </tr>\n",
              "    <tr>\n",
              "      <th>44</th>\n",
              "      <td>Warsaw</td>\n",
              "    </tr>\n",
              "    <tr>\n",
              "      <th>45</th>\n",
              "      <td>Winnipeg</td>\n",
              "    </tr>\n",
              "    <tr>\n",
              "      <th>46</th>\n",
              "      <td>Yellowknife</td>\n",
              "    </tr>\n",
              "  </tbody>\n",
              "</table>\n",
              "</div>"
            ],
            "text/plain": [
              "            BillingCity\n",
              "0             Bangalore\n",
              "1                Berlin\n",
              "2              Bordeaux\n",
              "3                Boston\n",
              "4              Brasília\n",
              "5              Brussels\n",
              "6              Budapest\n",
              "7          Buenos Aires\n",
              "8               Chicago\n",
              "9            Copenhagen\n",
              "10            Cupertino\n",
              "11                Delhi\n",
              "12                Dijon\n",
              "13               Dublin\n",
              "14           Fort Worth\n",
              "15            Frankfurt\n",
              "16              Halifax\n",
              "17             Helsinki\n",
              "18               Lisbon\n",
              "19               London\n",
              "20                 Lyon\n",
              "21              Madison\n",
              "22               Madrid\n",
              "23             Montréal\n",
              "24        Mountain View\n",
              "25             New York\n",
              "26                Paris\n",
              "27                Porto\n",
              "28               Prague\n",
              "29              Redmond\n",
              "30                 Reno\n",
              "31       Rio de Janeiro\n",
              "32                 Rome\n",
              "33       Salt Lake City\n",
              "34             Santiago\n",
              "35               Sidney\n",
              "36            Stockholm\n",
              "37            Stuttgart\n",
              "38  São José dos Campos\n",
              "39            São Paulo\n",
              "40              Toronto\n",
              "41               Tucson\n",
              "42            Vancouver\n",
              "43               Vienne\n",
              "44               Warsaw\n",
              "45             Winnipeg\n",
              "46          Yellowknife"
            ]
          },
          "metadata": {
            "tags": []
          },
          "execution_count": 84
        }
      ]
    },
    {
      "cell_type": "code",
      "metadata": {
        "id": "b6da44ca",
        "colab": {
          "base_uri": "https://localhost:8080/"
        },
        "outputId": "182b292b-2a62-4d0e-adf2-3ab2dacde39d"
      },
      "source": [
        "#@title ####Run this cell to check your answer {display-mode: \"form\"}\n",
        "idx = 7\n",
        "verify_answer(idx-1,f'answer_{idx}',connection=conn)"
      ],
      "id": "b6da44ca",
      "execution_count": 85,
      "outputs": [
        {
          "output_type": "stream",
          "text": [
            "Your answer is:\n",
            "\n",
            "SELECT DISTINCT BillingCity \n",
            "FROM Invoices\n",
            "WHERE BillingCity NOT LIKE \"A%\" AND BillingCity NOT LIKE \"O%\" AND BillingCity NOT LIKE \"E%\" AND BillingCity NOT LIKE \"I%\" AND BillingCity NOT LIKE \"U%\"\n",
            "ORDER BY BillingCity ASC\n",
            "\n",
            "\n",
            "You passed! Good job!\n",
            "Your current score: 100/100\n"
          ],
          "name": "stdout"
        }
      ]
    },
    {
      "cell_type": "code",
      "metadata": {
        "colab": {
          "base_uri": "https://localhost:8080/",
          "height": 1000
        },
        "id": "c8ca40fb",
        "outputId": "b63a4de5-771b-40d2-d1c1-5d716e029016"
      },
      "source": [
        "pd.read_sql_query(answer_7, conn)\n",
        "# Your result table should look like this"
      ],
      "id": "c8ca40fb",
      "execution_count": null,
      "outputs": [
        {
          "output_type": "execute_result",
          "data": {
            "text/html": [
              "<div>\n",
              "<style scoped>\n",
              "    .dataframe tbody tr th:only-of-type {\n",
              "        vertical-align: middle;\n",
              "    }\n",
              "\n",
              "    .dataframe tbody tr th {\n",
              "        vertical-align: top;\n",
              "    }\n",
              "\n",
              "    .dataframe thead th {\n",
              "        text-align: right;\n",
              "    }\n",
              "</style>\n",
              "<table border=\"1\" class=\"dataframe\">\n",
              "  <thead>\n",
              "    <tr style=\"text-align: right;\">\n",
              "      <th></th>\n",
              "      <th>BillingCity</th>\n",
              "    </tr>\n",
              "  </thead>\n",
              "  <tbody>\n",
              "    <tr>\n",
              "      <th>0</th>\n",
              "      <td>Bangalore</td>\n",
              "    </tr>\n",
              "    <tr>\n",
              "      <th>1</th>\n",
              "      <td>Berlin</td>\n",
              "    </tr>\n",
              "    <tr>\n",
              "      <th>2</th>\n",
              "      <td>Bordeaux</td>\n",
              "    </tr>\n",
              "    <tr>\n",
              "      <th>3</th>\n",
              "      <td>Boston</td>\n",
              "    </tr>\n",
              "    <tr>\n",
              "      <th>4</th>\n",
              "      <td>Brasília</td>\n",
              "    </tr>\n",
              "    <tr>\n",
              "      <th>5</th>\n",
              "      <td>Brussels</td>\n",
              "    </tr>\n",
              "    <tr>\n",
              "      <th>6</th>\n",
              "      <td>Budapest</td>\n",
              "    </tr>\n",
              "    <tr>\n",
              "      <th>7</th>\n",
              "      <td>Buenos Aires</td>\n",
              "    </tr>\n",
              "    <tr>\n",
              "      <th>8</th>\n",
              "      <td>Chicago</td>\n",
              "    </tr>\n",
              "    <tr>\n",
              "      <th>9</th>\n",
              "      <td>Copenhagen</td>\n",
              "    </tr>\n",
              "    <tr>\n",
              "      <th>10</th>\n",
              "      <td>Cupertino</td>\n",
              "    </tr>\n",
              "    <tr>\n",
              "      <th>11</th>\n",
              "      <td>Delhi</td>\n",
              "    </tr>\n",
              "    <tr>\n",
              "      <th>12</th>\n",
              "      <td>Dijon</td>\n",
              "    </tr>\n",
              "    <tr>\n",
              "      <th>13</th>\n",
              "      <td>Dublin</td>\n",
              "    </tr>\n",
              "    <tr>\n",
              "      <th>14</th>\n",
              "      <td>Fort Worth</td>\n",
              "    </tr>\n",
              "    <tr>\n",
              "      <th>15</th>\n",
              "      <td>Frankfurt</td>\n",
              "    </tr>\n",
              "    <tr>\n",
              "      <th>16</th>\n",
              "      <td>Halifax</td>\n",
              "    </tr>\n",
              "    <tr>\n",
              "      <th>17</th>\n",
              "      <td>Helsinki</td>\n",
              "    </tr>\n",
              "    <tr>\n",
              "      <th>18</th>\n",
              "      <td>Lisbon</td>\n",
              "    </tr>\n",
              "    <tr>\n",
              "      <th>19</th>\n",
              "      <td>London</td>\n",
              "    </tr>\n",
              "    <tr>\n",
              "      <th>20</th>\n",
              "      <td>Lyon</td>\n",
              "    </tr>\n",
              "    <tr>\n",
              "      <th>21</th>\n",
              "      <td>Madison</td>\n",
              "    </tr>\n",
              "    <tr>\n",
              "      <th>22</th>\n",
              "      <td>Madrid</td>\n",
              "    </tr>\n",
              "    <tr>\n",
              "      <th>23</th>\n",
              "      <td>Montréal</td>\n",
              "    </tr>\n",
              "    <tr>\n",
              "      <th>24</th>\n",
              "      <td>Mountain View</td>\n",
              "    </tr>\n",
              "    <tr>\n",
              "      <th>25</th>\n",
              "      <td>New York</td>\n",
              "    </tr>\n",
              "    <tr>\n",
              "      <th>26</th>\n",
              "      <td>Paris</td>\n",
              "    </tr>\n",
              "    <tr>\n",
              "      <th>27</th>\n",
              "      <td>Porto</td>\n",
              "    </tr>\n",
              "    <tr>\n",
              "      <th>28</th>\n",
              "      <td>Prague</td>\n",
              "    </tr>\n",
              "    <tr>\n",
              "      <th>29</th>\n",
              "      <td>Redmond</td>\n",
              "    </tr>\n",
              "    <tr>\n",
              "      <th>30</th>\n",
              "      <td>Reno</td>\n",
              "    </tr>\n",
              "    <tr>\n",
              "      <th>31</th>\n",
              "      <td>Rio de Janeiro</td>\n",
              "    </tr>\n",
              "    <tr>\n",
              "      <th>32</th>\n",
              "      <td>Rome</td>\n",
              "    </tr>\n",
              "    <tr>\n",
              "      <th>33</th>\n",
              "      <td>Salt Lake City</td>\n",
              "    </tr>\n",
              "    <tr>\n",
              "      <th>34</th>\n",
              "      <td>Santiago</td>\n",
              "    </tr>\n",
              "    <tr>\n",
              "      <th>35</th>\n",
              "      <td>Sidney</td>\n",
              "    </tr>\n",
              "    <tr>\n",
              "      <th>36</th>\n",
              "      <td>Stockholm</td>\n",
              "    </tr>\n",
              "    <tr>\n",
              "      <th>37</th>\n",
              "      <td>Stuttgart</td>\n",
              "    </tr>\n",
              "    <tr>\n",
              "      <th>38</th>\n",
              "      <td>São José dos Campos</td>\n",
              "    </tr>\n",
              "    <tr>\n",
              "      <th>39</th>\n",
              "      <td>São Paulo</td>\n",
              "    </tr>\n",
              "    <tr>\n",
              "      <th>40</th>\n",
              "      <td>Toronto</td>\n",
              "    </tr>\n",
              "    <tr>\n",
              "      <th>41</th>\n",
              "      <td>Tucson</td>\n",
              "    </tr>\n",
              "    <tr>\n",
              "      <th>42</th>\n",
              "      <td>Vancouver</td>\n",
              "    </tr>\n",
              "    <tr>\n",
              "      <th>43</th>\n",
              "      <td>Vienne</td>\n",
              "    </tr>\n",
              "    <tr>\n",
              "      <th>44</th>\n",
              "      <td>Warsaw</td>\n",
              "    </tr>\n",
              "    <tr>\n",
              "      <th>45</th>\n",
              "      <td>Winnipeg</td>\n",
              "    </tr>\n",
              "    <tr>\n",
              "      <th>46</th>\n",
              "      <td>Yellowknife</td>\n",
              "    </tr>\n",
              "  </tbody>\n",
              "</table>\n",
              "</div>"
            ],
            "text/plain": [
              "            BillingCity\n",
              "0             Bangalore\n",
              "1                Berlin\n",
              "2              Bordeaux\n",
              "3                Boston\n",
              "4              Brasília\n",
              "5              Brussels\n",
              "6              Budapest\n",
              "7          Buenos Aires\n",
              "8               Chicago\n",
              "9            Copenhagen\n",
              "10            Cupertino\n",
              "11                Delhi\n",
              "12                Dijon\n",
              "13               Dublin\n",
              "14           Fort Worth\n",
              "15            Frankfurt\n",
              "16              Halifax\n",
              "17             Helsinki\n",
              "18               Lisbon\n",
              "19               London\n",
              "20                 Lyon\n",
              "21              Madison\n",
              "22               Madrid\n",
              "23             Montréal\n",
              "24        Mountain View\n",
              "25             New York\n",
              "26                Paris\n",
              "27                Porto\n",
              "28               Prague\n",
              "29              Redmond\n",
              "30                 Reno\n",
              "31       Rio de Janeiro\n",
              "32                 Rome\n",
              "33       Salt Lake City\n",
              "34             Santiago\n",
              "35               Sidney\n",
              "36            Stockholm\n",
              "37            Stuttgart\n",
              "38  São José dos Campos\n",
              "39            São Paulo\n",
              "40              Toronto\n",
              "41               Tucson\n",
              "42            Vancouver\n",
              "43               Vienne\n",
              "44               Warsaw\n",
              "45             Winnipeg\n",
              "46          Yellowknife"
            ]
          },
          "metadata": {
            "tags": []
          },
          "execution_count": 4
        }
      ]
    }
  ]
}